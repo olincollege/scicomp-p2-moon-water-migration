{
 "cells": [
  {
   "cell_type": "code",
   "execution_count": 3,
   "metadata": {},
   "outputs": [
    {
     "name": "stdout",
     "output_type": "stream",
     "text": [
      "[(6371, 2.960429679354162, 2.1511875227674335), (6371, 1.345883672989771, 1.275307838488664), (6371, 1.4290080003345373, 3.098293844056621), (6371, 1.16558856768947, 2.4664348469035304), (6371, 3.0280107047785063, 0.5689616671795389), (6371, 2.8734751668185914, 0.4436899355477922), (6371, 2.9885486136031356, 1.695020383997089), (6371, 0.723735297485088, 5.466683194821156), (6371, 1.9276175596316991, 5.744221392913015), (6371, 3.0938758510351705, 0.8182472333701869)]\n"
     ]
    }
   ],
   "source": [
    "import math\n",
    "import random\n",
    "\n",
    "def generate_spherical_coordinates(radius, n):\n",
    "    points = []\n",
    "    for _ in range(n):\n",
    "        theta = random.uniform(0, 2 * math.pi)  # Azimuthal angle\n",
    "        phi = random.uniform(0, math.pi)      # Polar angle\n",
    "\n",
    "        points.append((radius, phi, theta))\n",
    "\n",
    "    return points\n",
    "\n",
    "planet_radius = 6371  # Earth's radius in kilometers\n",
    "n_points = 10  # Change this to the number of points you want to generate\n",
    "\n",
    "spherical_points = generate_spherical_coordinates(planet_radius, n_points)\n",
    "print(spherical_points)\n"
   ]
  },
  {
   "cell_type": "code",
   "execution_count": null,
   "metadata": {},
   "outputs": [],
   "source": [
    "class Planet:\n",
    "\n",
    "    "
   ]
  },
  {
   "cell_type": "code",
   "execution_count": 8,
   "metadata": {},
   "outputs": [],
   "source": [
    "class Molecule:\n",
    "    \n",
    "    def __init__(self):\n",
    "        self.theta = random.uniform(0, 2 * math.pi)  # Azimuthal angle\n",
    "        self.phi = random.uniform(0, math.pi)      # Polar angle\n",
    "        self.loss = False\n",
    "        self.capture = False\n",
    "        self.start_latitude = ((2 * math.pi) - self.phi)\n",
    "\n",
    "    def determine_trajectory():\n",
    "        # random velocity and angle\n",
    "        pass\n",
    "\n",
    "    def calculate_ait_time():\n",
    "        # sqrt(2)*(v/g)\n",
    "        pass\n",
    "\n",
    "    def hop():\n",
    "        # is both loss and capture are false\n",
    "            # use molecule coords\n",
    "            # use planet radius\n",
    "            # use equation for calculating path of hop\n",
    "            # return new coords\n",
    "        pass\n",
    "\n",
    "    def loss():\n",
    "        # calculate loss prob based off current latitude/temp\n",
    "        # generate random number between 0 and 1\n",
    "        # if less than assign bool for loss as true\n",
    "        # if greater than assign bool for loss as false\n",
    "        pass\n",
    "\n",
    "    def capture():\n",
    "        # calculate capture prob based off current latitude\n",
    "        # generate random number between 0 and 1\n",
    "        # if less than assign bool for capture as true\n",
    "        # if greater than assign bool for capture as false\n",
    "        pass\n"
   ]
  },
  {
   "cell_type": "code",
   "execution_count": null,
   "metadata": {},
   "outputs": [],
   "source": []
  }
 ],
 "metadata": {
  "kernelspec": {
   "display_name": "Python 3",
   "language": "python",
   "name": "python3"
  },
  "language_info": {
   "codemirror_mode": {
    "name": "ipython",
    "version": 3
   },
   "file_extension": ".py",
   "mimetype": "text/x-python",
   "name": "python",
   "nbconvert_exporter": "python",
   "pygments_lexer": "ipython3",
   "version": "3.10.12"
  },
  "orig_nbformat": 4
 },
 "nbformat": 4,
 "nbformat_minor": 2
}
